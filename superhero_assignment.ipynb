{
  "cells": [
    {
      "cell_type": "markdown",
      "metadata": {
        "id": "view-in-github",
        "colab_type": "text"
      },
      "source": [
        "<a href=\"https://colab.research.google.com/github/t-aridi/DS2002-002-Assignments/blob/main/superhero_assignment.ipynb\" target=\"_parent\"><img src=\"https://colab.research.google.com/assets/colab-badge.svg\" alt=\"Open In Colab\"/></a>"
      ]
    },
    {
      "cell_type": "markdown",
      "id": "5fa8dcf6",
      "metadata": {
        "id": "5fa8dcf6"
      },
      "source": [
        "# Superhero Database Assignment (SQLite & Google Colab)\n",
        "\n",
        "## Objective\n",
        "In this assignment, you will design and implement a **Superhero Database** using SQLite in Google Colab. This database will store superheroes, villains, and their battles. You will write SQL queries to analyze battle outcomes and relationships between heroes and villains.\n",
        "\n",
        "### Group Size:\n",
        "- 2 to 3 students per group.\n",
        "\n",
        "### Tools Required:\n",
        "- **Google Colab**\n",
        "- **SQLite (built into Python)**\n",
        "- **CSV files (provided for import)**"
      ]
    },
    {
      "cell_type": "markdown",
      "id": "5535e625",
      "metadata": {
        "id": "5535e625"
      },
      "source": [
        "## Step 1: Setting Up Your SQLite Database\n",
        "\n",
        "### Tasks:\n",
        "1. Initialize SQLite in Google Colab.\n",
        "2. Create a database named `superhero_db.sqlite`.\n",
        "3. Define the database schema, ensuring it includes the following tables:\n",
        "   - `heroes`: Stores superhero names, powers, and teams.\n",
        "   - `villains`: Stores villains and their evil plans.\n",
        "   - `battles`: Tracks battles between heroes and villains, including the outcome.\n",
        "4. Implement primary keys and foreign keys where appropriate.\n",
        "\n",
        "✅ **Checkpoint:** Ensure that the database and tables have been successfully created."
      ]
    },
    {
      "cell_type": "code",
      "source": [
        "import sqlite3\n",
        "\n",
        "# Connect to (or create) the SQLite database file\n",
        "conn = sqlite3.connect('superhero_db.sqlite')\n",
        "cursor = conn.cursor()\n",
        "\n",
        "# Create the heroes table (storing names, powers, and teams)\n",
        "cursor.execute('''\n",
        "CREATE TABLE IF NOT EXISTS heroes (\n",
        "    id INTEGER PRIMARY KEY,\n",
        "    name TEXT NOT NULL,\n",
        "    power TEXT,\n",
        "    team TEXT\n",
        ")\n",
        "''')\n",
        "\n",
        "# Create the villains table (storing names and evil plans)\n",
        "cursor.execute('''\n",
        "CREATE TABLE IF NOT EXISTS villains (\n",
        "    id INTEGER PRIMARY KEY,\n",
        "    name TEXT NOT NULL,\n",
        "    evil_plan TEXT\n",
        ")\n",
        "''')\n",
        "\n",
        "# Create the battles table with foreign keys referencing heroes and villains\n",
        "cursor.execute('''\n",
        "CREATE TABLE IF NOT EXISTS battles (\n",
        "    id INTEGER PRIMARY KEY,\n",
        "    hero_id INTEGER,\n",
        "    villain_id INTEGER,\n",
        "    outcome TEXT,\n",
        "    FOREIGN KEY (hero_id) REFERENCES heroes (id),\n",
        "    FOREIGN KEY (villain_id) REFERENCES villains (id)\n",
        ")\n",
        "''')\n",
        "\n",
        "conn.commit()\n",
        "conn.close()"
      ],
      "metadata": {
        "id": "wwOYRWYj6Sd-"
      },
      "id": "wwOYRWYj6Sd-",
      "execution_count": 1,
      "outputs": []
    },
    {
      "cell_type": "markdown",
      "id": "154b3c3a",
      "metadata": {
        "id": "154b3c3a"
      },
      "source": [
        "## Step 2: Import Data from CSV Files\n",
        "\n",
        "### Tasks:\n",
        "1. Download the provided CSV files.\n",
        "2. Upload them to Google Colab.\n",
        "3. Write a script to import data from these files into the appropriate tables.\n",
        "4. Verify that the data has been successfully inserted.\n",
        "\n",
        "✅ **Checkpoint:** Ensure that each table contains the expected data from the CSV files."
      ]
    },
    {
      "cell_type": "code",
      "source": [
        "import sqlite3\n",
        "import pandas as pd\n",
        "\n",
        "# Connect to the SQLite database\n",
        "conn = sqlite3.connect('superhero_db.sqlite')\n",
        "\n",
        "# Make sure you have uploaded the CSV files: 'heroes.csv', 'villains.csv', and 'battles.csv'\n",
        "# For file uploads in Colab, you can use:\n",
        "# from google.colab import files\n",
        "# files.upload()\n",
        "\n",
        "# Read CSV files with the revised columns\n",
        "heroes_df = pd.read_csv('heroes.csv')\n",
        "villains_df = pd.read_csv('villains.csv')\n",
        "battles_df = pd.read_csv('battles.csv')\n",
        "\n",
        "# Import data into the respective tables\n",
        "heroes_df.to_sql('heroes', conn, if_exists='append', index=False)\n",
        "villains_df.to_sql('villains', conn, if_exists='append', index=False)\n",
        "battles_df.to_sql('battles', conn, if_exists='append', index=False)\n",
        "\n",
        "# Verify data insertion by counting rows in each table\n",
        "heroes_count = pd.read_sql_query('SELECT COUNT(*) AS count FROM heroes', conn).iloc[0]['count']\n",
        "villains_count = pd.read_sql_query('SELECT COUNT(*) AS count FROM villains', conn).iloc[0]['count']\n",
        "battles_count = pd.read_sql_query('SELECT COUNT(*) AS count FROM battles', conn).iloc[0]['count']\n",
        "\n",
        "print(\"Heroes:\", heroes_count)\n",
        "print(\"Villains:\", villains_count)\n",
        "print(\"Battles:\", battles_count)\n",
        "\n",
        "conn.close()"
      ],
      "metadata": {
        "colab": {
          "base_uri": "https://localhost:8080/"
        },
        "id": "C9sqvi7R8jOQ",
        "outputId": "f012be5e-5343-43eb-d036-8dd2920b5d9c"
      },
      "id": "C9sqvi7R8jOQ",
      "execution_count": 2,
      "outputs": [
        {
          "output_type": "stream",
          "name": "stdout",
          "text": [
            "Heroes: 10\n",
            "Villains: 10\n",
            "Battles: 30\n"
          ]
        }
      ]
    },
    {
      "cell_type": "markdown",
      "id": "33548d9f",
      "metadata": {
        "id": "33548d9f"
      },
      "source": [
        "## Step 3: Querying the Database\n",
        "\n",
        "### Tasks:\n",
        "Write SQL queries to answer the following:\n",
        "1. Retrieve all superheroes and their powers.\n",
        "2. Find all battles where the hero won.\n",
        "3. List all villains and their evil plans.\n",
        "4. Determine which superhero has fought the most battles.\n",
        "\n",
        "✅ **Checkpoint:** Ensure that all queries return meaningful results from the database."
      ]
    },
    {
      "cell_type": "code",
      "source": [
        "import sqlite3\n",
        "import pandas as pd\n",
        "\n",
        "# Connect to the SQLite database\n",
        "conn = sqlite3.connect('superhero_db.sqlite')\n",
        "\n",
        "# 1. Retrieve all superheroes and their powers.\n",
        "query1 = \"SELECT name, power FROM heroes\"\n",
        "superheroes = pd.read_sql_query(query1, conn)\n",
        "print(\"Superheroes and their powers:\")\n",
        "print(superheroes)\n",
        "\n",
        "# 2. Find all battles where the hero won.\n",
        "# (Assumes the outcome field in battles.csv contains 'win' for victories.)\n",
        "query2 = \"SELECT * FROM battles WHERE LOWER(outcome) LIKE 'Hero Wins'\"\n",
        "battles_won = pd.read_sql_query(query2, conn)\n",
        "print(\"\\nBattles where the hero won:\")\n",
        "print(battles_won)\n",
        "\n",
        "# 3. List all villains and their evil plans.\n",
        "query3 = \"SELECT name, evil_plan FROM villains\"\n",
        "villains = pd.read_sql_query(query3, conn)\n",
        "print(\"\\nVillains and their evil plans:\")\n",
        "print(villains)\n",
        "\n",
        "# 4. Determine which superhero has fought the most battles.\n",
        "query4 = \"\"\"\n",
        "SELECT h.name, COUNT(b.id) AS battle_count\n",
        "FROM heroes h\n",
        "JOIN battles b ON h.id = b.hero_id\n",
        "GROUP BY h.id\n",
        "ORDER BY battle_count DESC\n",
        "LIMIT 1\n",
        "\"\"\"\n",
        "most_active_hero = pd.read_sql_query(query4, conn)\n",
        "print(\"\\nSuperhero who fought the most battles:\")\n",
        "print(most_active_hero)\n",
        "\n",
        "conn.close()"
      ],
      "metadata": {
        "colab": {
          "base_uri": "https://localhost:8080/"
        },
        "id": "B1hR4uPe8ltT",
        "outputId": "c328d89d-1e56-468c-a663-344bdbf552a6"
      },
      "id": "B1hR4uPe8ltT",
      "execution_count": 3,
      "outputs": [
        {
          "output_type": "stream",
          "name": "stdout",
          "text": [
            "Superheroes and their powers:\n",
            "             name               power\n",
            "0      Spider-Man        Web-slinging\n",
            "1        Iron Man       Powered Armor\n",
            "2          Batman    Genius Detective\n",
            "3        Superman      Super Strength\n",
            "4            Thor      God of Thunder\n",
            "5    Wonder Woman  Amazonian Strength\n",
            "6   Black Panther    Enhanced Agility\n",
            "7       The Flash         Super Speed\n",
            "8            Hulk      Super Strength\n",
            "9  Doctor Strange         Mystic Arts\n",
            "\n",
            "Battles where the hero won:\n",
            "   id  hero_id  villain_id    outcome\n",
            "0   2        9           3  Hero Wins\n",
            "1   5        1           7  Hero Wins\n",
            "2   7        9           8  Hero Wins\n",
            "3   8        3           2  Hero Wins\n",
            "4   9        7           5  Hero Wins\n",
            "5  13        8           9  Hero Wins\n",
            "6  20        3           4  Hero Wins\n",
            "7  29        3           5  Hero Wins\n",
            "8  30        5           5  Hero Wins\n",
            "\n",
            "Villains and their evil plans:\n",
            "           name                           evil_plan\n",
            "0  Green Goblin                  Terrorize New York\n",
            "1        Thanos         Collect all Infinity Stones\n",
            "2         Joker              Spread chaos in Gotham\n",
            "3    Lex Luthor                     Defeat Superman\n",
            "4          Loki  Trick humanity into worshiping him\n",
            "5        Ultron                 AI world domination\n",
            "6      Darkseid                Control the universe\n",
            "7         Venom                  Consume Spider-Man\n",
            "8       Magneto                    Mutant supremacy\n",
            "9     Red Skull                        Revive Hydra\n",
            "\n",
            "Superhero who fought the most battles:\n",
            "     name  battle_count\n",
            "0  Batman             7\n"
          ]
        }
      ]
    },
    {
      "cell_type": "markdown",
      "id": "de8bda94",
      "metadata": {
        "id": "de8bda94"
      },
      "source": [
        "## Step 4: Add a Custom Feature\n",
        "\n",
        "### Tasks:\n",
        "1. Design and implement an additional table related to superheroes or villains.\n",
        "2. Populate it with data.\n",
        "3. Write at least one query to retrieve meaningful insights from the new table.\n",
        "\n",
        "**Examples of Custom Features:**\n",
        "- Sidekicks for superheroes\n",
        "- Villain hideouts\n",
        "- Battle locations\n",
        "- Superhero equipment\n",
        "\n",
        "✅ **Checkpoint:** Ensure that the new table and queries function correctly."
      ]
    },
    {
      "cell_type": "code",
      "source": [
        "import sqlite3\n",
        "\n",
        "# Connect to the database (or create it if it doesn't exist)\n",
        "conn = sqlite3.connect('superhero_db.sqlite')\n",
        "cursor = conn.cursor()\n",
        "\n",
        "# Task 1: Create a new table for villain hideouts\n",
        "create_table_query = '''\n",
        "CREATE TABLE IF NOT EXISTS VillainHideouts (\n",
        "    id INTEGER PRIMARY KEY AUTOINCREMENT,\n",
        "    villain_name TEXT NOT NULL,\n",
        "    hideout_location TEXT NOT NULL,\n",
        "    hideout_type TEXT,\n",
        "    description TEXT\n",
        ");\n",
        "'''\n",
        "cursor.execute(create_table_query)\n",
        "conn.commit()\n",
        "\n",
        "# Task 2: Populate the VillainHideouts table with data\n",
        "insert_data_query = '''\n",
        "INSERT INTO VillainHideouts (villain_name, hideout_location, hideout_type, description)\n",
        "VALUES\n",
        "    ('Joker', 'Abandoned Amusement Park', 'Urban Ruin', 'A dilapidated park with hidden passages.'),\n",
        "    ('Lex Luthor', 'Luminous Tower', 'Corporate High-tech', 'A skyscraper outfitted as a secret laboratory.'),\n",
        "    ('Green Goblin', 'Industrial Warehouse', 'Underground', 'An abandoned warehouse that conceals secret tunnels.'),\n",
        "    ('Doctor Octopus', 'Dockside Laboratory', 'Seaside Facility', 'A lab near the docks with advanced tech.'),\n",
        "    ('Magneto', 'Eastern Fortress', 'Remote Base', 'A fortified base located in a remote area.');\n",
        "'''\n",
        "cursor.execute(insert_data_query)\n",
        "conn.commit()\n",
        "\n",
        "# Task 3: Retrieve meaningful insights – Count hideouts by hideout type\n",
        "query = '''\n",
        "SELECT hideout_type, COUNT(*) AS number_of_hideouts\n",
        "FROM VillainHideouts\n",
        "GROUP BY hideout_type;\n",
        "'''\n",
        "cursor.execute(query)\n",
        "results = cursor.fetchall()\n",
        "\n",
        "print(\"Hideout Types and their Counts:\")\n",
        "for row in results:\n",
        "    print(f\"Hideout Type: {row[0]}, Count: {row[1]}\")\n",
        "\n",
        "conn.close()\n"
      ],
      "metadata": {
        "colab": {
          "base_uri": "https://localhost:8080/"
        },
        "id": "JGUn0V_UBlCA",
        "outputId": "4e846bac-e38a-4979-8968-27c25a796623"
      },
      "id": "JGUn0V_UBlCA",
      "execution_count": 4,
      "outputs": [
        {
          "output_type": "stream",
          "name": "stdout",
          "text": [
            "Hideout Types and their Counts:\n",
            "Hideout Type: Corporate High-tech, Count: 1\n",
            "Hideout Type: Remote Base, Count: 1\n",
            "Hideout Type: Seaside Facility, Count: 1\n",
            "Hideout Type: Underground, Count: 1\n",
            "Hideout Type: Urban Ruin, Count: 1\n"
          ]
        }
      ]
    },
    {
      "cell_type": "markdown",
      "id": "9bf43fe6",
      "metadata": {
        "id": "9bf43fe6"
      },
      "source": [
        "## Bonus Challenge (+5 Points)\n",
        "\n",
        "### Tasks:\n",
        "1. Enhance your project by adding a visual or interactive component.\n",
        "\n",
        "**Options:**\n",
        "- Visualize battles using Matplotlib (e.g., a bar chart showing how many battles each superhero has fought).\n",
        "- Make it interactive (e.g., allow users to input a superhero name and display their battles).\n",
        "\n",
        "✅ **Checkpoint:** If attempting the bonus, ensure that your visualization or interactive component works correctly."
      ]
    },
    {
      "cell_type": "code",
      "source": [
        "import sqlite3\n",
        "import ipywidgets as widgets\n",
        "from IPython.display import display\n",
        "\n",
        "# Connect to the existing database (which already has battles, heroes, and villains tables)\n",
        "conn = sqlite3.connect('superhero_db.sqlite')\n",
        "cursor = conn.cursor()\n",
        "\n",
        "# Function to retrieve battles for a given superhero name by joining the battles, heroes, and villains tables\n",
        "def get_superhero_battles(hero_name):\n",
        "    query = '''\n",
        "    SELECT b.id, h.name AS hero_name, v.name AS villain_name, b.outcome\n",
        "    FROM battles b\n",
        "    JOIN heroes h ON b.hero_id = h.id\n",
        "    JOIN villains v ON b.villain_id = v.id\n",
        "    WHERE h.name = ?\n",
        "    '''\n",
        "    cursor.execute(query, (hero_name,))\n",
        "    return cursor.fetchall()\n",
        "\n",
        "# Callback function for the interactive widget\n",
        "def on_button_clicked(b):\n",
        "    hero = text_input.value.strip()\n",
        "    if not hero:\n",
        "        output.value = \"<p>Please enter a superhero name.</p>\"\n",
        "        return\n",
        "\n",
        "    battles = get_superhero_battles(hero)\n",
        "    if battles:\n",
        "        output_html = f\"<h4>Battles for {hero}:</h4><ul>\"\n",
        "        for battle in battles:\n",
        "            output_html += f\"<li>Battle ID: {battle[0]}, Opponent: {battle[2]}, Outcome: {battle[3]}</li>\"\n",
        "        output_html += \"</ul>\"\n",
        "    else:\n",
        "        output_html = f\"<p>No battles found for <em>{hero}</em>.</p>\"\n",
        "\n",
        "    output.value = output_html\n",
        "\n",
        "# Create interactive widgets: a text input field and a button\n",
        "text_input = widgets.Text(\n",
        "    value='',\n",
        "    placeholder='Enter a superhero name...',\n",
        "    description='Superhero:',\n",
        "    disabled=False\n",
        ")\n",
        "\n",
        "button = widgets.Button(\n",
        "    description='Show Battles',\n",
        "    tooltip='Click to display battles for the superhero'\n",
        ")\n",
        "button.on_click(on_button_clicked)\n",
        "\n",
        "# HTML widget for displaying output results\n",
        "output = widgets.HTML()\n",
        "\n",
        "# Display the interactive component vertically\n",
        "display(widgets.VBox([text_input, button, output]))"
      ],
      "metadata": {
        "colab": {
          "base_uri": "https://localhost:8080/",
          "height": 125,
          "referenced_widgets": [
            "0654a80fa85d4004a2d1e0e8540b898e",
            "76e5be903f2345769439d58076a6f361",
            "8256e82986624943bba886c1433a6a2f",
            "8836a0a391a643339e8ddde297676f00",
            "ff0464f862984c6eaa3fbf535abd9fd1",
            "6ddf56ef27d74c15a92c8154562fca00",
            "235cebd12d894d2383e4c58b14ce3cc5",
            "886a92bb63cb470ba0f4bd8720a2082b",
            "c3893992f22b4310a5d2233cd930b2f4",
            "d49ce0818c8746419253606806175673",
            "f26cb2d71558498682d211166499a19e"
          ]
        },
        "id": "RE0cmeAyCbKl",
        "outputId": "fde22451-b465-4ff7-a75f-7861cad934fd"
      },
      "id": "RE0cmeAyCbKl",
      "execution_count": 5,
      "outputs": [
        {
          "output_type": "display_data",
          "data": {
            "text/plain": [
              "VBox(children=(Text(value='', description='Superhero:', placeholder='Enter a superhero name...'), Button(descr…"
            ],
            "application/vnd.jupyter.widget-view+json": {
              "version_major": 2,
              "version_minor": 0,
              "model_id": "0654a80fa85d4004a2d1e0e8540b898e"
            }
          },
          "metadata": {}
        }
      ]
    },
    {
      "cell_type": "markdown",
      "id": "89f56c05",
      "metadata": {
        "id": "89f56c05"
      },
      "source": [
        "## Submission Guidelines\n",
        "\n",
        "Each group must submit a **Google Colab Notebook (.ipynb)** containing:\n",
        "- ✅ **Database schema (DDL)**\n",
        "- ✅ **CSV imports & data insertion (DML)**\n",
        "- ✅ **SQL queries & results**\n",
        "- ✅ **Custom feature (bonus if applicable)**"
      ]
    },
    {
      "cell_type": "markdown",
      "id": "61477c9b",
      "metadata": {
        "id": "61477c9b"
      },
      "source": [
        "## Grading Criteria (Total: 25 Points)\n",
        "\n",
        "| Section                 | Points |\n",
        "|-------------------------|--------|\n",
        "| Database Setup          | 5      |\n",
        "| Data Importing         | 10     |\n",
        "| Querying the Data      | 10     |\n",
        "| Extra Feature          | 5      |\n",
        "| Bonus Challenge (Optional) | +5  |"
      ]
    },
    {
      "cell_type": "markdown",
      "id": "92bf6839",
      "metadata": {
        "id": "92bf6839"
      },
      "source": [
        "### Final Notes:\n",
        "- Be **creative** when designing superheroes and villains.\n",
        "- **Comment your code** to explain its functionality.\n",
        "- **Have fun** building your superhero universe!"
      ]
    }
  ],
  "metadata": {
    "colab": {
      "provenance": [],
      "include_colab_link": true
    },
    "language_info": {
      "name": "python"
    },
    "kernelspec": {
      "name": "python3",
      "display_name": "Python 3"
    },
    "widgets": {
      "application/vnd.jupyter.widget-state+json": {
        "0654a80fa85d4004a2d1e0e8540b898e": {
          "model_module": "@jupyter-widgets/controls",
          "model_name": "VBoxModel",
          "model_module_version": "1.5.0",
          "state": {
            "_dom_classes": [],
            "_model_module": "@jupyter-widgets/controls",
            "_model_module_version": "1.5.0",
            "_model_name": "VBoxModel",
            "_view_count": null,
            "_view_module": "@jupyter-widgets/controls",
            "_view_module_version": "1.5.0",
            "_view_name": "VBoxView",
            "box_style": "",
            "children": [
              "IPY_MODEL_76e5be903f2345769439d58076a6f361",
              "IPY_MODEL_8256e82986624943bba886c1433a6a2f",
              "IPY_MODEL_8836a0a391a643339e8ddde297676f00"
            ],
            "layout": "IPY_MODEL_ff0464f862984c6eaa3fbf535abd9fd1"
          }
        },
        "76e5be903f2345769439d58076a6f361": {
          "model_module": "@jupyter-widgets/controls",
          "model_name": "TextModel",
          "model_module_version": "1.5.0",
          "state": {
            "_dom_classes": [],
            "_model_module": "@jupyter-widgets/controls",
            "_model_module_version": "1.5.0",
            "_model_name": "TextModel",
            "_view_count": null,
            "_view_module": "@jupyter-widgets/controls",
            "_view_module_version": "1.5.0",
            "_view_name": "TextView",
            "continuous_update": true,
            "description": "Superhero:",
            "description_tooltip": null,
            "disabled": false,
            "layout": "IPY_MODEL_6ddf56ef27d74c15a92c8154562fca00",
            "placeholder": "Enter a superhero name...",
            "style": "IPY_MODEL_235cebd12d894d2383e4c58b14ce3cc5",
            "value": "Spider-Mankk"
          }
        },
        "8256e82986624943bba886c1433a6a2f": {
          "model_module": "@jupyter-widgets/controls",
          "model_name": "ButtonModel",
          "model_module_version": "1.5.0",
          "state": {
            "_dom_classes": [],
            "_model_module": "@jupyter-widgets/controls",
            "_model_module_version": "1.5.0",
            "_model_name": "ButtonModel",
            "_view_count": null,
            "_view_module": "@jupyter-widgets/controls",
            "_view_module_version": "1.5.0",
            "_view_name": "ButtonView",
            "button_style": "",
            "description": "Show Battles",
            "disabled": false,
            "icon": "",
            "layout": "IPY_MODEL_886a92bb63cb470ba0f4bd8720a2082b",
            "style": "IPY_MODEL_c3893992f22b4310a5d2233cd930b2f4",
            "tooltip": "Click to display battles for the superhero"
          }
        },
        "8836a0a391a643339e8ddde297676f00": {
          "model_module": "@jupyter-widgets/controls",
          "model_name": "HTMLModel",
          "model_module_version": "1.5.0",
          "state": {
            "_dom_classes": [],
            "_model_module": "@jupyter-widgets/controls",
            "_model_module_version": "1.5.0",
            "_model_name": "HTMLModel",
            "_view_count": null,
            "_view_module": "@jupyter-widgets/controls",
            "_view_module_version": "1.5.0",
            "_view_name": "HTMLView",
            "description": "",
            "description_tooltip": null,
            "layout": "IPY_MODEL_d49ce0818c8746419253606806175673",
            "placeholder": "​",
            "style": "IPY_MODEL_f26cb2d71558498682d211166499a19e",
            "value": "<p>No battles found for <em>Spider-Mankk</em>.</p>"
          }
        },
        "ff0464f862984c6eaa3fbf535abd9fd1": {
          "model_module": "@jupyter-widgets/base",
          "model_name": "LayoutModel",
          "model_module_version": "1.2.0",
          "state": {
            "_model_module": "@jupyter-widgets/base",
            "_model_module_version": "1.2.0",
            "_model_name": "LayoutModel",
            "_view_count": null,
            "_view_module": "@jupyter-widgets/base",
            "_view_module_version": "1.2.0",
            "_view_name": "LayoutView",
            "align_content": null,
            "align_items": null,
            "align_self": null,
            "border": null,
            "bottom": null,
            "display": null,
            "flex": null,
            "flex_flow": null,
            "grid_area": null,
            "grid_auto_columns": null,
            "grid_auto_flow": null,
            "grid_auto_rows": null,
            "grid_column": null,
            "grid_gap": null,
            "grid_row": null,
            "grid_template_areas": null,
            "grid_template_columns": null,
            "grid_template_rows": null,
            "height": null,
            "justify_content": null,
            "justify_items": null,
            "left": null,
            "margin": null,
            "max_height": null,
            "max_width": null,
            "min_height": null,
            "min_width": null,
            "object_fit": null,
            "object_position": null,
            "order": null,
            "overflow": null,
            "overflow_x": null,
            "overflow_y": null,
            "padding": null,
            "right": null,
            "top": null,
            "visibility": null,
            "width": null
          }
        },
        "6ddf56ef27d74c15a92c8154562fca00": {
          "model_module": "@jupyter-widgets/base",
          "model_name": "LayoutModel",
          "model_module_version": "1.2.0",
          "state": {
            "_model_module": "@jupyter-widgets/base",
            "_model_module_version": "1.2.0",
            "_model_name": "LayoutModel",
            "_view_count": null,
            "_view_module": "@jupyter-widgets/base",
            "_view_module_version": "1.2.0",
            "_view_name": "LayoutView",
            "align_content": null,
            "align_items": null,
            "align_self": null,
            "border": null,
            "bottom": null,
            "display": null,
            "flex": null,
            "flex_flow": null,
            "grid_area": null,
            "grid_auto_columns": null,
            "grid_auto_flow": null,
            "grid_auto_rows": null,
            "grid_column": null,
            "grid_gap": null,
            "grid_row": null,
            "grid_template_areas": null,
            "grid_template_columns": null,
            "grid_template_rows": null,
            "height": null,
            "justify_content": null,
            "justify_items": null,
            "left": null,
            "margin": null,
            "max_height": null,
            "max_width": null,
            "min_height": null,
            "min_width": null,
            "object_fit": null,
            "object_position": null,
            "order": null,
            "overflow": null,
            "overflow_x": null,
            "overflow_y": null,
            "padding": null,
            "right": null,
            "top": null,
            "visibility": null,
            "width": null
          }
        },
        "235cebd12d894d2383e4c58b14ce3cc5": {
          "model_module": "@jupyter-widgets/controls",
          "model_name": "DescriptionStyleModel",
          "model_module_version": "1.5.0",
          "state": {
            "_model_module": "@jupyter-widgets/controls",
            "_model_module_version": "1.5.0",
            "_model_name": "DescriptionStyleModel",
            "_view_count": null,
            "_view_module": "@jupyter-widgets/base",
            "_view_module_version": "1.2.0",
            "_view_name": "StyleView",
            "description_width": ""
          }
        },
        "886a92bb63cb470ba0f4bd8720a2082b": {
          "model_module": "@jupyter-widgets/base",
          "model_name": "LayoutModel",
          "model_module_version": "1.2.0",
          "state": {
            "_model_module": "@jupyter-widgets/base",
            "_model_module_version": "1.2.0",
            "_model_name": "LayoutModel",
            "_view_count": null,
            "_view_module": "@jupyter-widgets/base",
            "_view_module_version": "1.2.0",
            "_view_name": "LayoutView",
            "align_content": null,
            "align_items": null,
            "align_self": null,
            "border": null,
            "bottom": null,
            "display": null,
            "flex": null,
            "flex_flow": null,
            "grid_area": null,
            "grid_auto_columns": null,
            "grid_auto_flow": null,
            "grid_auto_rows": null,
            "grid_column": null,
            "grid_gap": null,
            "grid_row": null,
            "grid_template_areas": null,
            "grid_template_columns": null,
            "grid_template_rows": null,
            "height": null,
            "justify_content": null,
            "justify_items": null,
            "left": null,
            "margin": null,
            "max_height": null,
            "max_width": null,
            "min_height": null,
            "min_width": null,
            "object_fit": null,
            "object_position": null,
            "order": null,
            "overflow": null,
            "overflow_x": null,
            "overflow_y": null,
            "padding": null,
            "right": null,
            "top": null,
            "visibility": null,
            "width": null
          }
        },
        "c3893992f22b4310a5d2233cd930b2f4": {
          "model_module": "@jupyter-widgets/controls",
          "model_name": "ButtonStyleModel",
          "model_module_version": "1.5.0",
          "state": {
            "_model_module": "@jupyter-widgets/controls",
            "_model_module_version": "1.5.0",
            "_model_name": "ButtonStyleModel",
            "_view_count": null,
            "_view_module": "@jupyter-widgets/base",
            "_view_module_version": "1.2.0",
            "_view_name": "StyleView",
            "button_color": null,
            "font_weight": ""
          }
        },
        "d49ce0818c8746419253606806175673": {
          "model_module": "@jupyter-widgets/base",
          "model_name": "LayoutModel",
          "model_module_version": "1.2.0",
          "state": {
            "_model_module": "@jupyter-widgets/base",
            "_model_module_version": "1.2.0",
            "_model_name": "LayoutModel",
            "_view_count": null,
            "_view_module": "@jupyter-widgets/base",
            "_view_module_version": "1.2.0",
            "_view_name": "LayoutView",
            "align_content": null,
            "align_items": null,
            "align_self": null,
            "border": null,
            "bottom": null,
            "display": null,
            "flex": null,
            "flex_flow": null,
            "grid_area": null,
            "grid_auto_columns": null,
            "grid_auto_flow": null,
            "grid_auto_rows": null,
            "grid_column": null,
            "grid_gap": null,
            "grid_row": null,
            "grid_template_areas": null,
            "grid_template_columns": null,
            "grid_template_rows": null,
            "height": null,
            "justify_content": null,
            "justify_items": null,
            "left": null,
            "margin": null,
            "max_height": null,
            "max_width": null,
            "min_height": null,
            "min_width": null,
            "object_fit": null,
            "object_position": null,
            "order": null,
            "overflow": null,
            "overflow_x": null,
            "overflow_y": null,
            "padding": null,
            "right": null,
            "top": null,
            "visibility": null,
            "width": null
          }
        },
        "f26cb2d71558498682d211166499a19e": {
          "model_module": "@jupyter-widgets/controls",
          "model_name": "DescriptionStyleModel",
          "model_module_version": "1.5.0",
          "state": {
            "_model_module": "@jupyter-widgets/controls",
            "_model_module_version": "1.5.0",
            "_model_name": "DescriptionStyleModel",
            "_view_count": null,
            "_view_module": "@jupyter-widgets/base",
            "_view_module_version": "1.2.0",
            "_view_name": "StyleView",
            "description_width": ""
          }
        }
      }
    }
  },
  "nbformat": 4,
  "nbformat_minor": 5
}